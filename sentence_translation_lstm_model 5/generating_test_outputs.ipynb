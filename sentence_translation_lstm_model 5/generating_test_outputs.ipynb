{
  "cells": [
    {
      "cell_type": "code",
      "source": [
        "import torch\n",
        "import torch.nn as nn\n",
        "import torch.nn.functional as F\n",
        "from torch.utils.data import DataLoader, TensorDataset\n",
        "import json\n",
        "import numpy as np\n",
        "import re\n",
        "import string\n",
        "import nltk\n",
        "import pandas as pd\n",
        "import matplotlib.pyplot as plt\n",
        "\n",
        "device = torch.device(\"cuda\" if torch.cuda.is_available() else \"cpu\")"
      ],
      "metadata": {
        "id": "vFvIfYThUHQg"
      },
      "execution_count": null,
      "outputs": []
    },
    {
      "cell_type": "code",
      "source": [
        "from google.colab import drive\n",
        "drive.mount('/content/drive')"
      ],
      "metadata": {
        "id": "y2LMoTz6UJGO",
        "outputId": "154dc62b-4719-4c6f-c4d1-795ed1930c46",
        "colab": {
          "base_uri": "https://localhost:8080/"
        }
      },
      "execution_count": null,
      "outputs": [
        {
          "output_type": "stream",
          "name": "stdout",
          "text": [
            "Mounted at /content/drive\n"
          ]
        }
      ]
    },
    {
      "cell_type": "code",
      "source": [
        "with open('/content/drive/MyDrive/test_data1_final.json', 'r') as file:\n",
        "    data = json.load(file)"
      ],
      "metadata": {
        "id": "FRxFnPFAr3Wy"
      },
      "execution_count": null,
      "outputs": []
    },
    {
      "cell_type": "code",
      "source": [
        "en_test = []\n",
        "id_test = []"
      ],
      "metadata": {
        "id": "-cejL3CDsEkp"
      },
      "execution_count": null,
      "outputs": []
    },
    {
      "cell_type": "code",
      "source": [
        "!pip install spacy"
      ],
      "metadata": {
        "id": "UPK8KcBwsPRe",
        "outputId": "8ee6afdc-78a8-4f61-e3a2-1df288d9e171",
        "colab": {
          "base_uri": "https://localhost:8080/"
        }
      },
      "execution_count": null,
      "outputs": [
        {
          "output_type": "stream",
          "name": "stdout",
          "text": [
            "Requirement already satisfied: spacy in /usr/local/lib/python3.10/dist-packages (3.7.5)\n",
            "Requirement already satisfied: spacy-legacy<3.1.0,>=3.0.11 in /usr/local/lib/python3.10/dist-packages (from spacy) (3.0.12)\n",
            "Requirement already satisfied: spacy-loggers<2.0.0,>=1.0.0 in /usr/local/lib/python3.10/dist-packages (from spacy) (1.0.5)\n",
            "Requirement already satisfied: murmurhash<1.1.0,>=0.28.0 in /usr/local/lib/python3.10/dist-packages (from spacy) (1.0.10)\n",
            "Requirement already satisfied: cymem<2.1.0,>=2.0.2 in /usr/local/lib/python3.10/dist-packages (from spacy) (2.0.8)\n",
            "Requirement already satisfied: preshed<3.1.0,>=3.0.2 in /usr/local/lib/python3.10/dist-packages (from spacy) (3.0.9)\n",
            "Requirement already satisfied: thinc<8.3.0,>=8.2.2 in /usr/local/lib/python3.10/dist-packages (from spacy) (8.2.5)\n",
            "Requirement already satisfied: wasabi<1.2.0,>=0.9.1 in /usr/local/lib/python3.10/dist-packages (from spacy) (1.1.3)\n",
            "Requirement already satisfied: srsly<3.0.0,>=2.4.3 in /usr/local/lib/python3.10/dist-packages (from spacy) (2.4.8)\n",
            "Requirement already satisfied: catalogue<2.1.0,>=2.0.6 in /usr/local/lib/python3.10/dist-packages (from spacy) (2.0.10)\n",
            "Requirement already satisfied: weasel<0.5.0,>=0.1.0 in /usr/local/lib/python3.10/dist-packages (from spacy) (0.4.1)\n",
            "Requirement already satisfied: typer<1.0.0,>=0.3.0 in /usr/local/lib/python3.10/dist-packages (from spacy) (0.13.0)\n",
            "Requirement already satisfied: tqdm<5.0.0,>=4.38.0 in /usr/local/lib/python3.10/dist-packages (from spacy) (4.66.6)\n",
            "Requirement already satisfied: requests<3.0.0,>=2.13.0 in /usr/local/lib/python3.10/dist-packages (from spacy) (2.32.3)\n",
            "Requirement already satisfied: pydantic!=1.8,!=1.8.1,<3.0.0,>=1.7.4 in /usr/local/lib/python3.10/dist-packages (from spacy) (2.9.2)\n",
            "Requirement already satisfied: jinja2 in /usr/local/lib/python3.10/dist-packages (from spacy) (3.1.4)\n",
            "Requirement already satisfied: setuptools in /usr/local/lib/python3.10/dist-packages (from spacy) (75.1.0)\n",
            "Requirement already satisfied: packaging>=20.0 in /usr/local/lib/python3.10/dist-packages (from spacy) (24.2)\n",
            "Requirement already satisfied: langcodes<4.0.0,>=3.2.0 in /usr/local/lib/python3.10/dist-packages (from spacy) (3.4.1)\n",
            "Requirement already satisfied: numpy>=1.19.0 in /usr/local/lib/python3.10/dist-packages (from spacy) (1.26.4)\n",
            "Requirement already satisfied: language-data>=1.2 in /usr/local/lib/python3.10/dist-packages (from langcodes<4.0.0,>=3.2.0->spacy) (1.2.0)\n",
            "Requirement already satisfied: annotated-types>=0.6.0 in /usr/local/lib/python3.10/dist-packages (from pydantic!=1.8,!=1.8.1,<3.0.0,>=1.7.4->spacy) (0.7.0)\n",
            "Requirement already satisfied: pydantic-core==2.23.4 in /usr/local/lib/python3.10/dist-packages (from pydantic!=1.8,!=1.8.1,<3.0.0,>=1.7.4->spacy) (2.23.4)\n",
            "Requirement already satisfied: typing-extensions>=4.6.1 in /usr/local/lib/python3.10/dist-packages (from pydantic!=1.8,!=1.8.1,<3.0.0,>=1.7.4->spacy) (4.12.2)\n",
            "Requirement already satisfied: charset-normalizer<4,>=2 in /usr/local/lib/python3.10/dist-packages (from requests<3.0.0,>=2.13.0->spacy) (3.4.0)\n",
            "Requirement already satisfied: idna<4,>=2.5 in /usr/local/lib/python3.10/dist-packages (from requests<3.0.0,>=2.13.0->spacy) (3.10)\n",
            "Requirement already satisfied: urllib3<3,>=1.21.1 in /usr/local/lib/python3.10/dist-packages (from requests<3.0.0,>=2.13.0->spacy) (2.2.3)\n",
            "Requirement already satisfied: certifi>=2017.4.17 in /usr/local/lib/python3.10/dist-packages (from requests<3.0.0,>=2.13.0->spacy) (2024.8.30)\n",
            "Requirement already satisfied: blis<0.8.0,>=0.7.8 in /usr/local/lib/python3.10/dist-packages (from thinc<8.3.0,>=8.2.2->spacy) (0.7.11)\n",
            "Requirement already satisfied: confection<1.0.0,>=0.0.1 in /usr/local/lib/python3.10/dist-packages (from thinc<8.3.0,>=8.2.2->spacy) (0.1.5)\n",
            "Requirement already satisfied: click>=8.0.0 in /usr/local/lib/python3.10/dist-packages (from typer<1.0.0,>=0.3.0->spacy) (8.1.7)\n",
            "Requirement already satisfied: shellingham>=1.3.0 in /usr/local/lib/python3.10/dist-packages (from typer<1.0.0,>=0.3.0->spacy) (1.5.4)\n",
            "Requirement already satisfied: rich>=10.11.0 in /usr/local/lib/python3.10/dist-packages (from typer<1.0.0,>=0.3.0->spacy) (13.9.4)\n",
            "Requirement already satisfied: cloudpathlib<1.0.0,>=0.7.0 in /usr/local/lib/python3.10/dist-packages (from weasel<0.5.0,>=0.1.0->spacy) (0.20.0)\n",
            "Requirement already satisfied: smart-open<8.0.0,>=5.2.1 in /usr/local/lib/python3.10/dist-packages (from weasel<0.5.0,>=0.1.0->spacy) (7.0.5)\n",
            "Requirement already satisfied: MarkupSafe>=2.0 in /usr/local/lib/python3.10/dist-packages (from jinja2->spacy) (3.0.2)\n",
            "Requirement already satisfied: marisa-trie>=0.7.7 in /usr/local/lib/python3.10/dist-packages (from language-data>=1.2->langcodes<4.0.0,>=3.2.0->spacy) (1.2.1)\n",
            "Requirement already satisfied: markdown-it-py>=2.2.0 in /usr/local/lib/python3.10/dist-packages (from rich>=10.11.0->typer<1.0.0,>=0.3.0->spacy) (3.0.0)\n",
            "Requirement already satisfied: pygments<3.0.0,>=2.13.0 in /usr/local/lib/python3.10/dist-packages (from rich>=10.11.0->typer<1.0.0,>=0.3.0->spacy) (2.18.0)\n",
            "Requirement already satisfied: wrapt in /usr/local/lib/python3.10/dist-packages (from smart-open<8.0.0,>=5.2.1->weasel<0.5.0,>=0.1.0->spacy) (1.16.0)\n",
            "Requirement already satisfied: mdurl~=0.1 in /usr/local/lib/python3.10/dist-packages (from markdown-it-py>=2.2.0->rich>=10.11.0->typer<1.0.0,>=0.3.0->spacy) (0.1.2)\n"
          ]
        }
      ]
    },
    {
      "cell_type": "code",
      "source": [
        "import spacy"
      ],
      "metadata": {
        "id": "W58q-cyDsUJR"
      },
      "execution_count": null,
      "outputs": []
    },
    {
      "cell_type": "code",
      "source": [
        "for lang_pair, lang_data in data.items():\n",
        "  if (lang_pair == \"English-Bengali\"):\n",
        "    for ty, entries in lang_data.items():\n",
        "      print(\"TYPE is \", ty)\n",
        "      if (ty == \"Test\"):\n",
        "        for id, entry_data in entries.items():\n",
        "          en_test.append(entry_data['source'])\n",
        "          id_test.append(id)\n",
        "      else:\n",
        "        pass;\n",
        "\n",
        "print(len(id_test))"
      ],
      "metadata": {
        "id": "VT_Tzed8sXg2",
        "outputId": "495e33de-2fe1-4196-f648-f1d7d3a87628",
        "colab": {
          "base_uri": "https://localhost:8080/"
        }
      },
      "execution_count": null,
      "outputs": [
        {
          "output_type": "stream",
          "name": "stdout",
          "text": [
            "TYPE is  Test\n",
            "19672\n"
          ]
        }
      ]
    },
    {
      "cell_type": "code",
      "source": [
        "def process(sentence): # cleaning the sentences\n",
        "  sentence = ''.join([char for char in sentence if char not in string.punctuation and not char.isdigit()])\n",
        "  return sentence"
      ],
      "metadata": {
        "id": "CetkY3wSsmzN"
      },
      "execution_count": null,
      "outputs": []
    },
    {
      "cell_type": "code",
      "source": [
        "nlp_en = spacy.load(\"en_core_web_sm\")"
      ],
      "metadata": {
        "id": "7mvoWWlssuYa"
      },
      "execution_count": null,
      "outputs": []
    },
    {
      "cell_type": "code",
      "source": [
        "# Tokenizing the sentences\n",
        "def work_eng(sentences):\n",
        "  replace_sentences = []\n",
        "  done = 0\n",
        "  for sentence in sentences:\n",
        "    sentence = sentence.lower()\n",
        "    sentence = process(sentence)\n",
        "    sentence = [token.text for token in nlp_en.tokenizer(sentence)]\n",
        "    replace_sentences.append(sentence)\n",
        "    done += 1\n",
        "    if (done % 10000 == 0):\n",
        "      print(f\"DONE {done}\")\n",
        "  return replace_sentences"
      ],
      "metadata": {
        "id": "Q_OnwJkhsxKe"
      },
      "execution_count": null,
      "outputs": []
    },
    {
      "cell_type": "code",
      "source": [
        "en_test = work_eng(en_test)"
      ],
      "metadata": {
        "id": "xfp7hBm4syPs",
        "outputId": "b8275820-6ddc-49ae-d3a5-8b234cb20e07",
        "colab": {
          "base_uri": "https://localhost:8080/"
        }
      },
      "execution_count": null,
      "outputs": [
        {
          "output_type": "stream",
          "name": "stdout",
          "text": [
            "DONE 10000\n"
          ]
        }
      ]
    },
    {
      "cell_type": "code",
      "source": [
        "en_test_df = pd.DataFrame(en_test)\n",
        "en_test_df.to_csv('/content/drive/MyDrive/en_test2.csv', index=False) # saving to a file"
      ],
      "metadata": {
        "id": "ME6KMmLrs4V6"
      },
      "execution_count": null,
      "outputs": []
    },
    {
      "cell_type": "code",
      "source": [
        "# using the presaved files for the train and val datasets\n",
        "\n",
        "en_train_df = pd.read_csv('/content/drive/MyDrive/datasets/en_train2.csv')\n",
        "hn_train_df = pd.read_csv('/content/drive/MyDrive/datasets/hn_train2.csv')\n",
        "en_val_df = pd.read_csv('/content/drive/MyDrive/datasets/en_val2.csv')\n",
        "\n",
        "en_train = [[v for v in row if not pd.isna(v)] for row in en_train_df.values.tolist()]\n",
        "hn_train = [[v for v in row if not pd.isna(v)] for row in hn_train_df.values.tolist()]\n",
        "en_val = [[v for v in row if not pd.isna(v)] for row in en_val_df.values.tolist()]"
      ],
      "metadata": {
        "id": "lpY_xlH0tIk9",
        "outputId": "c0e1c24a-06f6-4205-9b83-d78456494cc4",
        "colab": {
          "base_uri": "https://localhost:8080/"
        }
      },
      "execution_count": null,
      "outputs": [
        {
          "output_type": "stream",
          "name": "stderr",
          "text": [
            "<ipython-input-13-081fd30bb4b2>:1: DtypeWarning: Columns (73,74,75,76,77,78,79,80,81,82,83,84,85,86,87,88,89,90,91,92,93,94,95,96,97,98) have mixed types. Specify dtype option on import or set low_memory=False.\n",
            "  en_train_df = pd.read_csv('/content/drive/MyDrive/datasets/en_train2.csv')\n",
            "<ipython-input-13-081fd30bb4b2>:2: DtypeWarning: Columns (57,58,59,60,61,62,63,64,65,66,67,68,69,70,71,72,73,74) have mixed types. Specify dtype option on import or set low_memory=False.\n",
            "  hn_train_df = pd.read_csv('/content/drive/MyDrive/datasets/hn_train2.csv')\n",
            "<ipython-input-13-081fd30bb4b2>:3: DtypeWarning: Columns (59,60,61,62,63,64,65,66,67,68,69,70,71,72,73,74,75,76,77,78,79,80,81,82,83,84,85,86,87,88,89,90,91,92,93,94,95,96,97,98,99,100,101,102,103,104,105,106,107,108,109,110,111,112,113,114,115,116,117,118,119,120,121,122,123,124,125,126,127,128,129,130,131,132,133,134,135,136,137,138,139,140,141,142,143,144,145,146,147,148,149,150,151,152,153,154,155,156,157,158,159,160,161,162,163,164,165,166,167,168,169,170,171,172,173,174) have mixed types. Specify dtype option on import or set low_memory=False.\n",
            "  en_val_df = pd.read_csv('/content/drive/MyDrive/datasets/en_val2.csv')\n"
          ]
        }
      ]
    },
    {
      "cell_type": "code",
      "source": [
        "en_dict = {}\n",
        "hn_dict = {}\n",
        "\n",
        "#creating the dictionaries\n",
        "\n",
        "def add(dict, word):\n",
        "  if word not in dict:\n",
        "    dict[word] = len(dict)\n",
        "  return\n",
        "\n",
        "extras = ['<EOS>', '<SOS>', '<PAD>']\n",
        "\n",
        "for word in extras:\n",
        "  add(en_dict, word)\n",
        "  add(hn_dict, word)\n",
        "\n",
        "for sentence in en_train:\n",
        "  for word in sentence:\n",
        "    add(en_dict, word)\n",
        "\n",
        "for sentence in hn_train:\n",
        "  for word in sentence:\n",
        "    add(hn_dict, word)\n",
        "\n",
        "for sentence in en_val:\n",
        "  for word in sentence:\n",
        "    add(en_dict, word)"
      ],
      "metadata": {
        "id": "ICdhxRgxt1a3"
      },
      "execution_count": null,
      "outputs": []
    },
    {
      "cell_type": "code",
      "source": [
        "print(len(en_dict))\n",
        "print(len(hn_dict))"
      ],
      "metadata": {
        "id": "fUXFRHHKt59A",
        "outputId": "c1f0dee7-8527-44a3-f06a-8df8160e4933",
        "colab": {
          "base_uri": "https://localhost:8080/"
        }
      },
      "execution_count": null,
      "outputs": [
        {
          "output_type": "stream",
          "name": "stdout",
          "text": [
            "57487\n",
            "99392\n"
          ]
        }
      ]
    },
    {
      "cell_type": "code",
      "source": [
        "MAX_LEN = 23 # 23 for Bengali, 27 for Hindi"
      ],
      "metadata": {
        "id": "F_ICJKjQt_Qk"
      },
      "execution_count": null,
      "outputs": []
    },
    {
      "cell_type": "code",
      "source": [
        "def append(sentence):\n",
        "  sentence.insert(0, '<SOS>')\n",
        "  while (len(sentence) < MAX_LEN - 1):\n",
        "    sentence.append('<PAD>')\n",
        "  while (len(sentence) > MAX_LEN - 1):\n",
        "    sentence.pop()\n",
        "  sentence.append('<EOS>')\n",
        "  return sentence"
      ],
      "metadata": {
        "id": "fnrSwY-ruA5f"
      },
      "execution_count": null,
      "outputs": []
    },
    {
      "cell_type": "code",
      "source": [
        "def encode(dict, sentence):\n",
        "  sentence = append(sentence)\n",
        "  res = []\n",
        "  for word in sentence:\n",
        "    if word in dict:\n",
        "      res.append(dict[word])\n",
        "    else:\n",
        "      res.append(2)\n",
        "  return res"
      ],
      "metadata": {
        "id": "9LMw9Lz2uCW-"
      },
      "execution_count": null,
      "outputs": []
    },
    {
      "cell_type": "code",
      "source": [
        "def encode_sentences(dict, sentences):\n",
        "  res = []\n",
        "  for sentence in sentences:\n",
        "    res.append(encode(dict, sentence))\n",
        "  return res"
      ],
      "metadata": {
        "id": "YITlVInbuEiK"
      },
      "execution_count": null,
      "outputs": []
    },
    {
      "cell_type": "code",
      "source": [
        "en_tokentrain = encode_sentences(en_dict, en_train)\n",
        "hn_tokentrain = encode_sentences(hn_dict, hn_train)\n",
        "en_tokentest = encode_sentences(en_dict, en_test)"
      ],
      "metadata": {
        "id": "ouu0kFA3uGBB"
      },
      "execution_count": null,
      "outputs": []
    },
    {
      "cell_type": "code",
      "source": [
        "!wget http://nlp.stanford.edu/data/glove.6B.zip\n",
        "!unzip glove.6B.zip"
      ],
      "metadata": {
        "id": "n25MP5CQuNaq",
        "outputId": "cb402861-436b-463d-945c-bf70ad9a1132",
        "colab": {
          "base_uri": "https://localhost:8080/"
        }
      },
      "execution_count": null,
      "outputs": [
        {
          "output_type": "stream",
          "name": "stdout",
          "text": [
            "--2024-11-25 19:29:40--  http://nlp.stanford.edu/data/glove.6B.zip\n",
            "Resolving nlp.stanford.edu (nlp.stanford.edu)... 171.64.67.140\n",
            "Connecting to nlp.stanford.edu (nlp.stanford.edu)|171.64.67.140|:80... connected.\n",
            "HTTP request sent, awaiting response... 302 Found\n",
            "Location: https://nlp.stanford.edu/data/glove.6B.zip [following]\n",
            "--2024-11-25 19:29:41--  https://nlp.stanford.edu/data/glove.6B.zip\n",
            "Connecting to nlp.stanford.edu (nlp.stanford.edu)|171.64.67.140|:443... connected.\n",
            "HTTP request sent, awaiting response... 301 Moved Permanently\n",
            "Location: https://downloads.cs.stanford.edu/nlp/data/glove.6B.zip [following]\n",
            "--2024-11-25 19:29:42--  https://downloads.cs.stanford.edu/nlp/data/glove.6B.zip\n",
            "Resolving downloads.cs.stanford.edu (downloads.cs.stanford.edu)... 171.64.64.22\n",
            "Connecting to downloads.cs.stanford.edu (downloads.cs.stanford.edu)|171.64.64.22|:443... connected.\n",
            "HTTP request sent, awaiting response... 200 OK\n",
            "Length: 862182613 (822M) [application/zip]\n",
            "Saving to: ‘glove.6B.zip’\n",
            "\n",
            "glove.6B.zip        100%[===================>] 822.24M  5.10MB/s    in 2m 41s  \n",
            "\n",
            "2024-11-25 19:32:24 (5.10 MB/s) - ‘glove.6B.zip’ saved [862182613/862182613]\n",
            "\n",
            "Archive:  glove.6B.zip\n",
            "  inflating: glove.6B.50d.txt        \n",
            "  inflating: glove.6B.100d.txt       \n",
            "  inflating: glove.6B.200d.txt       \n",
            "  inflating: glove.6B.300d.txt       \n"
          ]
        }
      ]
    },
    {
      "cell_type": "code",
      "source": [
        "embedding_size = 200"
      ],
      "metadata": {
        "id": "hqZfKbc6uQlp"
      },
      "execution_count": null,
      "outputs": []
    },
    {
      "cell_type": "code",
      "source": [
        "glove_path = \"glove.6B.200d.txt\"\n",
        "\n",
        "embeddings_index = {}\n",
        "with open(glove_path, 'r', encoding='utf-8') as f:\n",
        "  for line in f:\n",
        "    values = line.split()\n",
        "    word = values[0]\n",
        "    vector = np.asarray(values[1:], dtype='float32')\n",
        "    embeddings_index[word] = vector\n",
        "\n",
        "vocab_size = len(en_dict)\n",
        "embedding_matrix = np.random.uniform(-0.1, 0.1, (vocab_size, embedding_size))\n",
        "\n",
        "for word, idx in en_dict.items():\n",
        "  if word in embeddings_index:\n",
        "    embedding_matrix[idx] = embeddings_index[word]"
      ],
      "metadata": {
        "id": "AHMuuu0LuSBW"
      },
      "execution_count": null,
      "outputs": []
    },
    {
      "cell_type": "code",
      "source": [
        "# Encoder LSTM\n",
        "class Encoder(nn.Module):\n",
        "  def __init__(self, input_size, embedding_size, hidden_size, num_layers):\n",
        "    super(Encoder, self).__init__()\n",
        "    self.hidden_size = hidden_size\n",
        "    self.num_layers = num_layers\n",
        "\n",
        "    self.embedding = nn.Embedding.from_pretrained(torch.FloatTensor(embedding_matrix), freeze=True) # ppretrained embedding, freeze = true because this should not be changed\n",
        "    self.lstm = nn.LSTM(embedding_size, hidden_size, num_layers)\n",
        "\n",
        "  def forward(self, x):\n",
        "    embedding = self.embedding(x)\n",
        "    outputs, (hidden, cell) = self.lstm(embedding)\n",
        "    return hidden, cell"
      ],
      "metadata": {
        "id": "happ-DpCuVNJ"
      },
      "execution_count": null,
      "outputs": []
    },
    {
      "cell_type": "code",
      "source": [
        "class Decoder(nn.Module):\n",
        "  def __init__(self, input_size, embedding_size, hidden_size, num_layers):\n",
        "    super(Decoder, self).__init__()\n",
        "    self.hidden_size = hidden_size\n",
        "    self.num_layers = num_layers\n",
        "\n",
        "    self.embedding = nn.Embedding(input_size, embedding_size)\n",
        "\n",
        "    self.lstm = nn.LSTM(embedding_size + hidden_size, hidden_size, num_layers)\n",
        "    self.attention = nn.Linear(hidden_size, hidden_size)\n",
        "    self.fun = nn.Linear(hidden_size, input_size)\n",
        "\n",
        "  def forward(self, x, hidden, cell):\n",
        "    x = x.unsqueeze(0)\n",
        "    embedding = self.embedding(x)\n",
        "\n",
        "    context = torch.tanh(self.attention(hidden[-1]))\n",
        "    context = context.unsqueeze(0)\n",
        "\n",
        "    result = torch.cat((embedding, context), dim=2)\n",
        "\n",
        "    outputs, (hidden, cell) = self.lstm(result, (hidden, cell))\n",
        "    predictions = self.fun(outputs)\n",
        "    predictions = predictions.squeeze(0)\n",
        "\n",
        "    return predictions, hidden, cell"
      ],
      "metadata": {
        "id": "c7plSPaluWpp"
      },
      "execution_count": null,
      "outputs": []
    },
    {
      "cell_type": "code",
      "source": [
        "num_epochs = 13\n",
        "learning_rate = 0.001\n",
        "batch_size = 50\n",
        "inp_size = len(en_dict)\n",
        "out_size = len(hn_dict)\n",
        "\n",
        "hidden_size = 512\n",
        "num_layers = 2"
      ],
      "metadata": {
        "id": "JGqFivRcuXmb"
      },
      "execution_count": null,
      "outputs": []
    },
    {
      "cell_type": "code",
      "source": [
        "encoder = Encoder(inp_size, embedding_size, hidden_size, num_layers).to(device)\n",
        "encoder"
      ],
      "metadata": {
        "id": "b3Qi2N2huaRC",
        "outputId": "b6470360-5a1c-41d2-ef30-26fe34cad161",
        "colab": {
          "base_uri": "https://localhost:8080/"
        }
      },
      "execution_count": null,
      "outputs": [
        {
          "output_type": "execute_result",
          "data": {
            "text/plain": [
              "Encoder(\n",
              "  (embedding): Embedding(57487, 200)\n",
              "  (lstm): LSTM(200, 512, num_layers=2)\n",
              ")"
            ]
          },
          "metadata": {},
          "execution_count": 28
        }
      ]
    },
    {
      "cell_type": "code",
      "source": [
        "decoder = Decoder(out_size, embedding_size, hidden_size, num_layers).to(device)\n",
        "decoder"
      ],
      "metadata": {
        "id": "SP-DPCIJudfL",
        "outputId": "b220a95c-7219-4222-d99b-55635049e9a3",
        "colab": {
          "base_uri": "https://localhost:8080/"
        }
      },
      "execution_count": null,
      "outputs": [
        {
          "output_type": "execute_result",
          "data": {
            "text/plain": [
              "Decoder(\n",
              "  (embedding): Embedding(99392, 200)\n",
              "  (lstm): LSTM(200, 512, num_layers=2)\n",
              "  (fun): Linear(in_features=512, out_features=99392, bias=True)\n",
              ")"
            ]
          },
          "metadata": {},
          "execution_count": 29
        }
      ]
    },
    {
      "cell_type": "code",
      "source": [
        "criterion = nn.CrossEntropyLoss()\n",
        "enc_optimizer = torch.optim.Adam(encoder.parameters(), lr = learning_rate)\n",
        "dec_optimizer = torch.optim.Adam(decoder.parameters(), lr = learning_rate)"
      ],
      "metadata": {
        "id": "ODEWcSURugfr"
      },
      "execution_count": null,
      "outputs": []
    },
    {
      "cell_type": "code",
      "source": [
        "train_x = np.array(en_tokentrain)\n",
        "train_y = np.array(hn_tokentrain)\n",
        "test_x = np.array(en_tokentest)\n",
        "\n",
        "train_ds = TensorDataset(torch.from_numpy(train_x), torch.from_numpy(train_y))\n",
        "test_ds = TensorDataset(torch.from_numpy(test_x))\n",
        "\n",
        "train_dl = DataLoader(train_ds, shuffle=False, batch_size=batch_size, drop_last=True)\n",
        "test_dl = DataLoader(test_ds, shuffle=False, batch_size=1, drop_last=True)"
      ],
      "metadata": {
        "id": "efgrjqkeulle"
      },
      "execution_count": null,
      "outputs": []
    },
    {
      "cell_type": "code",
      "source": [
        "# Finding the presaved models and reviving them to save training time\n",
        "path = '/content/drive/MyDrive/model_checkpoint_bengali_233.pth'\n",
        "checkpoint = torch.load(path)\n",
        "\n",
        "encoder.load_state_dict(checkpoint['encoder_state_dict'])\n",
        "decoder.load_state_dict(checkpoint['decoder_state_dict'])\n",
        "enc_optimizer.load_state_dict(checkpoint['enc_optimizer_state_dict'])\n",
        "dec_optimizer.load_state_dict(checkpoint['dec_optimizer_state_dict'])"
      ],
      "metadata": {
        "id": "KxHHrX1Nuntm",
        "outputId": "893f3f20-531a-4aff-c73c-14b0ca19a74b",
        "colab": {
          "base_uri": "https://localhost:8080/"
        }
      },
      "execution_count": null,
      "outputs": [
        {
          "output_type": "stream",
          "name": "stderr",
          "text": [
            "<ipython-input-32-fb14e86e8c0e>:2: FutureWarning: You are using `torch.load` with `weights_only=False` (the current default value), which uses the default pickle module implicitly. It is possible to construct malicious pickle data which will execute arbitrary code during unpickling (See https://github.com/pytorch/pytorch/blob/main/SECURITY.md#untrusted-models for more details). In a future release, the default value for `weights_only` will be flipped to `True`. This limits the functions that could be executed during unpickling. Arbitrary objects will no longer be allowed to be loaded via this mode unless they are explicitly allowlisted by the user via `torch.serialization.add_safe_globals`. We recommend you start setting `weights_only=True` for any use case where you don't have full control of the loaded file. Please open an issue on GitHub for any issues related to this experimental feature.\n",
            "  checkpoint = torch.load(path)\n"
          ]
        }
      ]
    },
    {
      "cell_type": "code",
      "source": [
        "hn_revdict = {v: k for k, v in hn_dict.items()}"
      ],
      "metadata": {
        "id": "qac5aIC6vGtm"
      },
      "execution_count": null,
      "outputs": []
    },
    {
      "cell_type": "code",
      "source": [
        "SOS = en_dict['<SOS>']\n",
        "EOS = en_dict['<EOS>']\n",
        "PAD = en_dict['<PAD>']"
      ],
      "metadata": {
        "id": "ZcY4-fzcv6XY"
      },
      "execution_count": null,
      "outputs": []
    },
    {
      "cell_type": "code",
      "source": [
        "# Translate function as defined before\n",
        "def translate_tensor(sentence_tensor):\n",
        "  input_tensor = sentence_tensor.to(device)\n",
        "\n",
        "  enc_optimizer.zero_grad()\n",
        "  dec_optimizer.zero_grad()\n",
        "\n",
        "  len = MAX_LEN\n",
        "\n",
        "  hidden, cell = encoder(input_tensor)\n",
        "\n",
        "  out = [SOS]\n",
        "\n",
        "  for t in range(1, len):\n",
        "    last = torch.LongTensor([out[-1]]).to(device)\n",
        "    output, hidden, cell = decoder(last, hidden, cell)\n",
        "    best = output.argmax(1)\n",
        "    out.append(best.to('cpu').item())\n",
        "    if (best.item() == EOS):\n",
        "      break\n",
        "\n",
        "    last = best\n",
        "\n",
        "  return out"
      ],
      "metadata": {
        "id": "xOJ5CZX_v2et"
      },
      "execution_count": null,
      "outputs": []
    },
    {
      "cell_type": "code",
      "source": [
        "def translate_lang(sentence_tensor):\n",
        "  translated_tensor = translate_tensor(sentence_tensor)\n",
        "  translated = []\n",
        "  for x in translated_tensor:\n",
        "    if (x == EOS or x == PAD or x == SOS):\n",
        "      continue\n",
        "\n",
        "    translated.append(hn_revdict[x])\n",
        "\n",
        "  result = \" \".join(translated)\n",
        "  return result"
      ],
      "metadata": {
        "id": "0qx5-Vnmv8xG"
      },
      "execution_count": null,
      "outputs": []
    },
    {
      "cell_type": "code",
      "source": [
        "for idx, batch in enumerate(test_dl):\n",
        "  input_tensor = batch[0].to(device)\n",
        "  input_tensor = input_tensor.transpose(0, 1)\n",
        "\n",
        "  print(translate_lang(input_tensor))\n",
        "  if (idx == 10):\n",
        "    break"
      ],
      "metadata": {
        "id": "8nDuwaYJv-au",
        "outputId": "534b11c0-a8a5-4faf-cbd1-dcde2e488bac",
        "colab": {
          "base_uri": "https://localhost:8080/"
        }
      },
      "execution_count": null,
      "outputs": [
        {
          "output_type": "stream",
          "name": "stdout",
          "text": [
            "বর্তমান ঘটনা ঘটনা\n",
            "ভগবান রাম তাঁর নিজের ছেলেকে জিজ্ঞাসা করার চেষ্টা করেছিলেন কিন্তু স্বামী এবং কাপুর হয়ে তাঁর দৃষ্টি থাকার জন্য ।\n",
            "দিন আগে আর জল দিয়ে লাগিয়ে নিন যে জল আটকে যাওয়া ইত্যাদি বেশি ঠান্ডা হয়ে যায় ৷\n",
            "যে সে যখন পরিবারের সাথে লড়াই করেন তখন তিনি আবার হাল্কা মেরে তখন তাঁর বাড়িতে ঢুকে পড়ে এবং সে স্পর্শ করে\n",
            "ন্যুনতম আখ চীনাবাদাম খাওয়া খুব খুব বেশী ।\n",
            "আমার স্কুলের সাথে ডিনার কি\n",
            "সালে ভারত থেকে জানা যায় যে ভারতে অনেক হিট রূপে পিছিয়ে ছিলেন না ।\n",
            "সর্দার প্যাটেলের প্রাক্তন কার্যনির্বাহী পদ্ধতি হলেন হলেন মুখ্যসচিব ।\n",
            "মজার কারণ যে সারা বিশ্বে কিছু কিছু জায়গা আর এমন এক সুন্দর জায়গা আছে যা আপনি নিজের পরিচয় করতে পারেন ৷\n",
            "এটি তার সাথে নিজস্ব স্বতন্ত্র ।\n",
            "এখানে সময়ের সাথে লাগোয়া ব্যবসার জন্য বিখ্যাত ৷\n"
          ]
        }
      ]
    },
    {
      "cell_type": "code",
      "source": [
        "#Running the translate on the actual data\n",
        "\n",
        "val_outs = []\n",
        "print(len(test_dl))\n",
        "for idx, batch in enumerate(test_dl):\n",
        "  input_tensor = batch[0].to(device)\n",
        "  input_tensor = input_tensor.transpose(0, 1)\n",
        "\n",
        "  val_outs.append(translate_lang(input_tensor))\n",
        "  if (idx % 1000 == 0):\n",
        "    print(f\"Done, {idx}\")"
      ],
      "metadata": {
        "id": "vB6AOeEzwBcF",
        "outputId": "666844e0-c65c-4fba-d587-5497a1c2c215",
        "colab": {
          "base_uri": "https://localhost:8080/"
        }
      },
      "execution_count": null,
      "outputs": [
        {
          "output_type": "stream",
          "name": "stdout",
          "text": [
            "19672\n",
            "Done, 0\n",
            "Done, 1000\n",
            "Done, 2000\n",
            "Done, 3000\n",
            "Done, 4000\n",
            "Done, 5000\n",
            "Done, 6000\n",
            "Done, 7000\n",
            "Done, 8000\n",
            "Done, 9000\n",
            "Done, 10000\n",
            "Done, 11000\n",
            "Done, 12000\n",
            "Done, 13000\n",
            "Done, 14000\n",
            "Done, 15000\n",
            "Done, 16000\n",
            "Done, 17000\n",
            "Done, 18000\n",
            "Done, 19000\n"
          ]
        }
      ]
    },
    {
      "cell_type": "code",
      "source": [
        "answer = pd.DataFrame()\n",
        "answer[\"ID\"] = id_test\n",
        "answer[\"Translation\"] = val_outs"
      ],
      "metadata": {
        "id": "6aykh6tZwDVg"
      },
      "execution_count": null,
      "outputs": []
    },
    {
      "cell_type": "code",
      "source": [
        "answer"
      ],
      "metadata": {
        "id": "w3oG2NycwE2U",
        "outputId": "16906b7a-4668-4caf-8568-230ecb4631d2",
        "colab": {
          "base_uri": "https://localhost:8080/",
          "height": 424
        }
      },
      "execution_count": null,
      "outputs": [
        {
          "output_type": "execute_result",
          "data": {
            "text/plain": [
              "           ID                                        Translation\n",
              "0      177039                                  বর্তমান ঘটনা ঘটনা\n",
              "1      177040  ভগবান রাম তাঁর নিজের ছেলেকে জিজ্ঞাসা করার চেষ্...\n",
              "2      177041  দিন আগে আর জল দিয়ে লাগিয়ে নিন যে জল আটকে যাওয়া...\n",
              "3      177042  যে সে যখন পরিবারের সাথে লড়াই করেন তখন তিনি আবা...\n",
              "4      177043          ন্যুনতম আখ চীনাবাদাম খাওয়া খুব খুব বেশী ।\n",
              "...       ...                                                ...\n",
              "19667  196706   এই জন্য সারা দিন আমাদের ফুসফুসে বেশি গাঁট পড়ে ৷\n",
              "19668  196707  আজকের থাই মধ্যে প্রায় টি টি দেশ জুড়ে যারা প্র...\n",
              "19669  196708  এটা হাল্কা গরম জলে হলুদ রেড মিট বা ফলের রস ট্য...\n",
              "19670  196709           ইউ শেষ হতে আবার অতিরিক্ত দেরী করা উচিত ।\n",
              "19671  196710                    কিছু রোগীদের স্বাদ লাগিয়ে দিন ৷\n",
              "\n",
              "[19672 rows x 2 columns]"
            ],
            "text/html": [
              "\n",
              "  <div id=\"df-52e016e2-e821-43f2-beb0-8c759d24c540\" class=\"colab-df-container\">\n",
              "    <div>\n",
              "<style scoped>\n",
              "    .dataframe tbody tr th:only-of-type {\n",
              "        vertical-align: middle;\n",
              "    }\n",
              "\n",
              "    .dataframe tbody tr th {\n",
              "        vertical-align: top;\n",
              "    }\n",
              "\n",
              "    .dataframe thead th {\n",
              "        text-align: right;\n",
              "    }\n",
              "</style>\n",
              "<table border=\"1\" class=\"dataframe\">\n",
              "  <thead>\n",
              "    <tr style=\"text-align: right;\">\n",
              "      <th></th>\n",
              "      <th>ID</th>\n",
              "      <th>Translation</th>\n",
              "    </tr>\n",
              "  </thead>\n",
              "  <tbody>\n",
              "    <tr>\n",
              "      <th>0</th>\n",
              "      <td>177039</td>\n",
              "      <td>বর্তমান ঘটনা ঘটনা</td>\n",
              "    </tr>\n",
              "    <tr>\n",
              "      <th>1</th>\n",
              "      <td>177040</td>\n",
              "      <td>ভগবান রাম তাঁর নিজের ছেলেকে জিজ্ঞাসা করার চেষ্...</td>\n",
              "    </tr>\n",
              "    <tr>\n",
              "      <th>2</th>\n",
              "      <td>177041</td>\n",
              "      <td>দিন আগে আর জল দিয়ে লাগিয়ে নিন যে জল আটকে যাওয়া...</td>\n",
              "    </tr>\n",
              "    <tr>\n",
              "      <th>3</th>\n",
              "      <td>177042</td>\n",
              "      <td>যে সে যখন পরিবারের সাথে লড়াই করেন তখন তিনি আবা...</td>\n",
              "    </tr>\n",
              "    <tr>\n",
              "      <th>4</th>\n",
              "      <td>177043</td>\n",
              "      <td>ন্যুনতম আখ চীনাবাদাম খাওয়া খুব খুব বেশী ।</td>\n",
              "    </tr>\n",
              "    <tr>\n",
              "      <th>...</th>\n",
              "      <td>...</td>\n",
              "      <td>...</td>\n",
              "    </tr>\n",
              "    <tr>\n",
              "      <th>19667</th>\n",
              "      <td>196706</td>\n",
              "      <td>এই জন্য সারা দিন আমাদের ফুসফুসে বেশি গাঁট পড়ে ৷</td>\n",
              "    </tr>\n",
              "    <tr>\n",
              "      <th>19668</th>\n",
              "      <td>196707</td>\n",
              "      <td>আজকের থাই মধ্যে প্রায় টি টি দেশ জুড়ে যারা প্র...</td>\n",
              "    </tr>\n",
              "    <tr>\n",
              "      <th>19669</th>\n",
              "      <td>196708</td>\n",
              "      <td>এটা হাল্কা গরম জলে হলুদ রেড মিট বা ফলের রস ট্য...</td>\n",
              "    </tr>\n",
              "    <tr>\n",
              "      <th>19670</th>\n",
              "      <td>196709</td>\n",
              "      <td>ইউ শেষ হতে আবার অতিরিক্ত দেরী করা উচিত ।</td>\n",
              "    </tr>\n",
              "    <tr>\n",
              "      <th>19671</th>\n",
              "      <td>196710</td>\n",
              "      <td>কিছু রোগীদের স্বাদ লাগিয়ে দিন ৷</td>\n",
              "    </tr>\n",
              "  </tbody>\n",
              "</table>\n",
              "<p>19672 rows × 2 columns</p>\n",
              "</div>\n",
              "    <div class=\"colab-df-buttons\">\n",
              "\n",
              "  <div class=\"colab-df-container\">\n",
              "    <button class=\"colab-df-convert\" onclick=\"convertToInteractive('df-52e016e2-e821-43f2-beb0-8c759d24c540')\"\n",
              "            title=\"Convert this dataframe to an interactive table.\"\n",
              "            style=\"display:none;\">\n",
              "\n",
              "  <svg xmlns=\"http://www.w3.org/2000/svg\" height=\"24px\" viewBox=\"0 -960 960 960\">\n",
              "    <path d=\"M120-120v-720h720v720H120Zm60-500h600v-160H180v160Zm220 220h160v-160H400v160Zm0 220h160v-160H400v160ZM180-400h160v-160H180v160Zm440 0h160v-160H620v160ZM180-180h160v-160H180v160Zm440 0h160v-160H620v160Z\"/>\n",
              "  </svg>\n",
              "    </button>\n",
              "\n",
              "  <style>\n",
              "    .colab-df-container {\n",
              "      display:flex;\n",
              "      gap: 12px;\n",
              "    }\n",
              "\n",
              "    .colab-df-convert {\n",
              "      background-color: #E8F0FE;\n",
              "      border: none;\n",
              "      border-radius: 50%;\n",
              "      cursor: pointer;\n",
              "      display: none;\n",
              "      fill: #1967D2;\n",
              "      height: 32px;\n",
              "      padding: 0 0 0 0;\n",
              "      width: 32px;\n",
              "    }\n",
              "\n",
              "    .colab-df-convert:hover {\n",
              "      background-color: #E2EBFA;\n",
              "      box-shadow: 0px 1px 2px rgba(60, 64, 67, 0.3), 0px 1px 3px 1px rgba(60, 64, 67, 0.15);\n",
              "      fill: #174EA6;\n",
              "    }\n",
              "\n",
              "    .colab-df-buttons div {\n",
              "      margin-bottom: 4px;\n",
              "    }\n",
              "\n",
              "    [theme=dark] .colab-df-convert {\n",
              "      background-color: #3B4455;\n",
              "      fill: #D2E3FC;\n",
              "    }\n",
              "\n",
              "    [theme=dark] .colab-df-convert:hover {\n",
              "      background-color: #434B5C;\n",
              "      box-shadow: 0px 1px 3px 1px rgba(0, 0, 0, 0.15);\n",
              "      filter: drop-shadow(0px 1px 2px rgba(0, 0, 0, 0.3));\n",
              "      fill: #FFFFFF;\n",
              "    }\n",
              "  </style>\n",
              "\n",
              "    <script>\n",
              "      const buttonEl =\n",
              "        document.querySelector('#df-52e016e2-e821-43f2-beb0-8c759d24c540 button.colab-df-convert');\n",
              "      buttonEl.style.display =\n",
              "        google.colab.kernel.accessAllowed ? 'block' : 'none';\n",
              "\n",
              "      async function convertToInteractive(key) {\n",
              "        const element = document.querySelector('#df-52e016e2-e821-43f2-beb0-8c759d24c540');\n",
              "        const dataTable =\n",
              "          await google.colab.kernel.invokeFunction('convertToInteractive',\n",
              "                                                    [key], {});\n",
              "        if (!dataTable) return;\n",
              "\n",
              "        const docLinkHtml = 'Like what you see? Visit the ' +\n",
              "          '<a target=\"_blank\" href=https://colab.research.google.com/notebooks/data_table.ipynb>data table notebook</a>'\n",
              "          + ' to learn more about interactive tables.';\n",
              "        element.innerHTML = '';\n",
              "        dataTable['output_type'] = 'display_data';\n",
              "        await google.colab.output.renderOutput(dataTable, element);\n",
              "        const docLink = document.createElement('div');\n",
              "        docLink.innerHTML = docLinkHtml;\n",
              "        element.appendChild(docLink);\n",
              "      }\n",
              "    </script>\n",
              "  </div>\n",
              "\n",
              "\n",
              "<div id=\"df-8910236b-9df6-40a6-aeed-ec9cc0a03603\">\n",
              "  <button class=\"colab-df-quickchart\" onclick=\"quickchart('df-8910236b-9df6-40a6-aeed-ec9cc0a03603')\"\n",
              "            title=\"Suggest charts\"\n",
              "            style=\"display:none;\">\n",
              "\n",
              "<svg xmlns=\"http://www.w3.org/2000/svg\" height=\"24px\"viewBox=\"0 0 24 24\"\n",
              "     width=\"24px\">\n",
              "    <g>\n",
              "        <path d=\"M19 3H5c-1.1 0-2 .9-2 2v14c0 1.1.9 2 2 2h14c1.1 0 2-.9 2-2V5c0-1.1-.9-2-2-2zM9 17H7v-7h2v7zm4 0h-2V7h2v10zm4 0h-2v-4h2v4z\"/>\n",
              "    </g>\n",
              "</svg>\n",
              "  </button>\n",
              "\n",
              "<style>\n",
              "  .colab-df-quickchart {\n",
              "      --bg-color: #E8F0FE;\n",
              "      --fill-color: #1967D2;\n",
              "      --hover-bg-color: #E2EBFA;\n",
              "      --hover-fill-color: #174EA6;\n",
              "      --disabled-fill-color: #AAA;\n",
              "      --disabled-bg-color: #DDD;\n",
              "  }\n",
              "\n",
              "  [theme=dark] .colab-df-quickchart {\n",
              "      --bg-color: #3B4455;\n",
              "      --fill-color: #D2E3FC;\n",
              "      --hover-bg-color: #434B5C;\n",
              "      --hover-fill-color: #FFFFFF;\n",
              "      --disabled-bg-color: #3B4455;\n",
              "      --disabled-fill-color: #666;\n",
              "  }\n",
              "\n",
              "  .colab-df-quickchart {\n",
              "    background-color: var(--bg-color);\n",
              "    border: none;\n",
              "    border-radius: 50%;\n",
              "    cursor: pointer;\n",
              "    display: none;\n",
              "    fill: var(--fill-color);\n",
              "    height: 32px;\n",
              "    padding: 0;\n",
              "    width: 32px;\n",
              "  }\n",
              "\n",
              "  .colab-df-quickchart:hover {\n",
              "    background-color: var(--hover-bg-color);\n",
              "    box-shadow: 0 1px 2px rgba(60, 64, 67, 0.3), 0 1px 3px 1px rgba(60, 64, 67, 0.15);\n",
              "    fill: var(--button-hover-fill-color);\n",
              "  }\n",
              "\n",
              "  .colab-df-quickchart-complete:disabled,\n",
              "  .colab-df-quickchart-complete:disabled:hover {\n",
              "    background-color: var(--disabled-bg-color);\n",
              "    fill: var(--disabled-fill-color);\n",
              "    box-shadow: none;\n",
              "  }\n",
              "\n",
              "  .colab-df-spinner {\n",
              "    border: 2px solid var(--fill-color);\n",
              "    border-color: transparent;\n",
              "    border-bottom-color: var(--fill-color);\n",
              "    animation:\n",
              "      spin 1s steps(1) infinite;\n",
              "  }\n",
              "\n",
              "  @keyframes spin {\n",
              "    0% {\n",
              "      border-color: transparent;\n",
              "      border-bottom-color: var(--fill-color);\n",
              "      border-left-color: var(--fill-color);\n",
              "    }\n",
              "    20% {\n",
              "      border-color: transparent;\n",
              "      border-left-color: var(--fill-color);\n",
              "      border-top-color: var(--fill-color);\n",
              "    }\n",
              "    30% {\n",
              "      border-color: transparent;\n",
              "      border-left-color: var(--fill-color);\n",
              "      border-top-color: var(--fill-color);\n",
              "      border-right-color: var(--fill-color);\n",
              "    }\n",
              "    40% {\n",
              "      border-color: transparent;\n",
              "      border-right-color: var(--fill-color);\n",
              "      border-top-color: var(--fill-color);\n",
              "    }\n",
              "    60% {\n",
              "      border-color: transparent;\n",
              "      border-right-color: var(--fill-color);\n",
              "    }\n",
              "    80% {\n",
              "      border-color: transparent;\n",
              "      border-right-color: var(--fill-color);\n",
              "      border-bottom-color: var(--fill-color);\n",
              "    }\n",
              "    90% {\n",
              "      border-color: transparent;\n",
              "      border-bottom-color: var(--fill-color);\n",
              "    }\n",
              "  }\n",
              "</style>\n",
              "\n",
              "  <script>\n",
              "    async function quickchart(key) {\n",
              "      const quickchartButtonEl =\n",
              "        document.querySelector('#' + key + ' button');\n",
              "      quickchartButtonEl.disabled = true;  // To prevent multiple clicks.\n",
              "      quickchartButtonEl.classList.add('colab-df-spinner');\n",
              "      try {\n",
              "        const charts = await google.colab.kernel.invokeFunction(\n",
              "            'suggestCharts', [key], {});\n",
              "      } catch (error) {\n",
              "        console.error('Error during call to suggestCharts:', error);\n",
              "      }\n",
              "      quickchartButtonEl.classList.remove('colab-df-spinner');\n",
              "      quickchartButtonEl.classList.add('colab-df-quickchart-complete');\n",
              "    }\n",
              "    (() => {\n",
              "      let quickchartButtonEl =\n",
              "        document.querySelector('#df-8910236b-9df6-40a6-aeed-ec9cc0a03603 button');\n",
              "      quickchartButtonEl.style.display =\n",
              "        google.colab.kernel.accessAllowed ? 'block' : 'none';\n",
              "    })();\n",
              "  </script>\n",
              "</div>\n",
              "\n",
              "  <div id=\"id_70c9633e-143d-41e7-95cb-e998ce752405\">\n",
              "    <style>\n",
              "      .colab-df-generate {\n",
              "        background-color: #E8F0FE;\n",
              "        border: none;\n",
              "        border-radius: 50%;\n",
              "        cursor: pointer;\n",
              "        display: none;\n",
              "        fill: #1967D2;\n",
              "        height: 32px;\n",
              "        padding: 0 0 0 0;\n",
              "        width: 32px;\n",
              "      }\n",
              "\n",
              "      .colab-df-generate:hover {\n",
              "        background-color: #E2EBFA;\n",
              "        box-shadow: 0px 1px 2px rgba(60, 64, 67, 0.3), 0px 1px 3px 1px rgba(60, 64, 67, 0.15);\n",
              "        fill: #174EA6;\n",
              "      }\n",
              "\n",
              "      [theme=dark] .colab-df-generate {\n",
              "        background-color: #3B4455;\n",
              "        fill: #D2E3FC;\n",
              "      }\n",
              "\n",
              "      [theme=dark] .colab-df-generate:hover {\n",
              "        background-color: #434B5C;\n",
              "        box-shadow: 0px 1px 3px 1px rgba(0, 0, 0, 0.15);\n",
              "        filter: drop-shadow(0px 1px 2px rgba(0, 0, 0, 0.3));\n",
              "        fill: #FFFFFF;\n",
              "      }\n",
              "    </style>\n",
              "    <button class=\"colab-df-generate\" onclick=\"generateWithVariable('answer')\"\n",
              "            title=\"Generate code using this dataframe.\"\n",
              "            style=\"display:none;\">\n",
              "\n",
              "  <svg xmlns=\"http://www.w3.org/2000/svg\" height=\"24px\"viewBox=\"0 0 24 24\"\n",
              "       width=\"24px\">\n",
              "    <path d=\"M7,19H8.4L18.45,9,17,7.55,7,17.6ZM5,21V16.75L18.45,3.32a2,2,0,0,1,2.83,0l1.4,1.43a1.91,1.91,0,0,1,.58,1.4,1.91,1.91,0,0,1-.58,1.4L9.25,21ZM18.45,9,17,7.55Zm-12,3A5.31,5.31,0,0,0,4.9,8.1,5.31,5.31,0,0,0,1,6.5,5.31,5.31,0,0,0,4.9,4.9,5.31,5.31,0,0,0,6.5,1,5.31,5.31,0,0,0,8.1,4.9,5.31,5.31,0,0,0,12,6.5,5.46,5.46,0,0,0,6.5,12Z\"/>\n",
              "  </svg>\n",
              "    </button>\n",
              "    <script>\n",
              "      (() => {\n",
              "      const buttonEl =\n",
              "        document.querySelector('#id_70c9633e-143d-41e7-95cb-e998ce752405 button.colab-df-generate');\n",
              "      buttonEl.style.display =\n",
              "        google.colab.kernel.accessAllowed ? 'block' : 'none';\n",
              "\n",
              "      buttonEl.onclick = () => {\n",
              "        google.colab.notebook.generateWithVariable('answer');\n",
              "      }\n",
              "      })();\n",
              "    </script>\n",
              "  </div>\n",
              "\n",
              "    </div>\n",
              "  </div>\n"
            ],
            "application/vnd.google.colaboratory.intrinsic+json": {
              "type": "dataframe",
              "variable_name": "answer",
              "summary": "{\n  \"name\": \"answer\",\n  \"rows\": 19672,\n  \"fields\": [\n    {\n      \"column\": \"ID\",\n      \"properties\": {\n        \"dtype\": \"string\",\n        \"num_unique_values\": 19672,\n        \"samples\": [\n          \"194659\",\n          \"184703\",\n          \"195720\"\n        ],\n        \"semantic_type\": \"\",\n        \"description\": \"\"\n      }\n    },\n    {\n      \"column\": \"Translation\",\n      \"properties\": {\n        \"dtype\": \"string\",\n        \"num_unique_values\": 19285,\n        \"samples\": [\n          \"\\u0986\\u09ae\\u09b0\\u09be \\u09ac\\u09bf\\u099b\\u09be\\u09a8\\u09be\\u09df \\u09b6\\u09c1\\u0987 \\u09ad\\u09c0\\u09b7\\u09a3 \\u0995\\u09a5\\u09be \\u09ac\\u09b2\\u09a4\\u09c7 \\u09aa\\u09be\\u09b0\\u09bf \\u0995\\u09c7\\u09a8\\u09a8\\u09be \\u09b8\\u09c7\\u0997\\u09c1\\u09b2\\u09bf \\u0996\\u09c1\\u09ac \\u09a6\\u09cd\\u09b0\\u09c1\\u09a4 \\u0995\\u09be\\u099c \\u0995\\u09b0\\u09a4\\u09c7 \\u09aa\\u09be\\u09b0\\u09ac\\u09c7\\u09a8 \\u09a8\\u09be \\u098f\\u09ac\\u0982 \\u0986\\u09ae\\u09b0\\u09be \\u0986\\u09ae\\u09be\\u09a6\\u09c7\\u09b0 \\u09ae\\u09be\\u09a5\\u09be \\u0986\\u099f\\u0995\\u09c7 \\u09af\\u09be\\u0993\\u09df\\u09be\",\n          \"\\u09b0\\u09be\\u099c\\u09b8\\u09cd\\u09a5\\u09be\\u09a8\\u09c7 \\u09aa\\u09cd\\u09b0\\u09be\\u099a\\u09c0\\u09a8 \\u0993 \\u09ac\\u09cc\\u09a6\\u09cd\\u09a7 \\u09a7\\u09b0\\u09cd\\u09ae\\u09c7\\u09b0 \\u09ae\\u09a7\\u09cd\\u09af\\u09c7 \\u0989\\u09a4\\u09cd\\u0995\\u09c3\\u09b7\\u09cd\\u099f \\u09b0\\u09be\\u099c\\u09be \\u09af\\u09c7\\u09ae\\u09a8 \\u09ac\\u09cc\\u09a6\\u09cd\\u09a7 \\u09b9\\u09bf\\u09a8\\u09cd\\u09a6\\u09c1 \\u09a7\\u09b0\\u09cd\\u09ae \\u09b6\\u09bf\\u0996 \\u09aa\\u09be\\u09b2\\u09a8 \\u0995\\u09b0\\u09a4\\u09c7\\u09a8 \\u09f7\",\n          \"\\u09af\\u09be\\u0987\\u09b9\\u09cb\\u0995 \\u09a4\\u09be\\u0981\\u09b0 \\u09ad\\u09be\\u0987 \\u0985\\u09b0\\u09cd\\u099c\\u09c1\\u09a8\\u09c7\\u09b0 \\u09b8\\u09cd\\u09a4\\u09cd\\u09b0\\u09c0 \\u098f\\u09ac\\u0982 \\u0985\\u09a8\\u09cd\\u09af\\u09be\\u09a8\\u09cd\\u09af \\u09ad\\u09be\\u0987 \\u09b8\\u09cd\\u09ac\\u09be\\u09ae\\u09c0 \\u0986\\u09a6\\u09bf \\u09b8\\u09bf\\u0982 \\u09a4\\u09be\\u0981\\u09b0 \\u09ad\\u09be\\u0987 \\u099b\\u09c7\\u09b2\\u09c7\\u09b0 \\u098f\\u0995 \\u099b\\u09cb\\u099f \\u09ad\\u09be\\u0987 \\u098f\\u09ac\\u0982 \\u09a6\\u09be\\u09a8\\u09bf\\u09af\\u09bc\\u09be\\u09b2 \\u0985\\u09ad\\u09bf\\u09a8\\u09af\\u09bc \\u0995\\u09b0\\u09c7\\u099b\\u09c7\\u09a8\"\n        ],\n        \"semantic_type\": \"\",\n        \"description\": \"\"\n      }\n    }\n  ]\n}"
            }
          },
          "metadata": {},
          "execution_count": 40
        }
      ]
    },
    {
      "cell_type": "code",
      "source": [
        "answer.to_csv(\"/content/drive/MyDrive/answers v1/answer_test_bengali_1.csv\", index=False)"
      ],
      "metadata": {
        "id": "KYx9qEN-wHUE"
      },
      "execution_count": null,
      "outputs": []
    }
  ],
  "metadata": {
    "colab": {
      "provenance": [],
      "toc_visible": true,
      "machine_shape": "hm",
      "gpuType": "L4"
    },
    "kernelspec": {
      "display_name": "Python 3",
      "name": "python3"
    },
    "accelerator": "GPU"
  },
  "nbformat": 4,
  "nbformat_minor": 0
}